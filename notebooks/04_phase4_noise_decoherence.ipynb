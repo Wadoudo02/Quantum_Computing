{
 "cells": [
  {
   "cell_type": "markdown",
   "metadata": {},
   "source": [
    "# Phase 4: Quantum Noise and Decoherence\n",
    "\n",
    "**Why Quantum Computers Are So Hard to Build**\n",
    "\n",
    "This notebook explores quantum noise and decoherence - the fundamental challenges facing quantum computing.\n",
    "\n",
    "**Based on:** Imperial College Quantum Information Theory Notes - Section 4.1-4.2\n",
    "\n",
    "**Author:** Wadoud Charbak"
   ]
  }
 ],
 "metadata": {
  "kernelspec": {
   "display_name": "Python 3",
   "language": "python",
   "name": "python3"
  },
  "language_info": {
   "name": "python",
   "version": "3.9.0"
  }
 },
 "nbformat": 4,
 "nbformat_minor": 4
}

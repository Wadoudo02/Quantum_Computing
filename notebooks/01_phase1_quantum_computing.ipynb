{
 "cells": [
  {
   "cell_type": "markdown",
   "metadata": {},
   "source": [
    "# Phase 1: Introduction to Quantum Computing\n",
    "\n",
    "**A comprehensive exploration of single-qubit quantum mechanics**\n",
    "\n",
    "---\n",
    "\n",
    "## Overview\n",
    "\n",
    "This notebook provides a complete introduction to quantum computing fundamentals:\n",
    "- Qubit representation and state vectors\n",
    "- Quantum gates and unitary operations\n",
    "- Bloch sphere visualization\n",
    "- Measurement and the Born rule\n",
    "- Two-qubit systems and entanglement\n",
    "\n",
    "**Reference:** Imperial College London Quantum Information Notes\n",
    "\n",
    "---"
   ]
  },
  {
   "cell_type": "code",
   "execution_count": null,
   "metadata": {},
   "outputs": [],
   "source": [
    "# Setup: Add src to path\n",
    "import sys\n",
    "from pathlib import Path\n",
    "\n",
    "# Add parent directory to path\n",
    "notebook_dir = Path().absolute()\n",
    "project_root = notebook_dir.parent\n",
    "sys.path.insert(0, str(project_root / \"src\"))\n",
    "\n",
    "# Imports\n",
    "import numpy as np\n",
    "import matplotlib.pyplot as plt\n",
    "from IPython.display import display, Math, Latex\n",
    "\n",
    "# Our quantum computing library\n",
    "from phase1_qubits.qubit import Qubit, ket_0, ket_1, ket_plus, ket_minus\n",
    "from phase1_qubits.gates import (\n",
    "    HADAMARD, PAULI_X, PAULI_Y, PAULI_Z, S_GATE, T_GATE,\n",
    "    apply_gate, rx, ry, rz\n",
    ")\n",
    "from phase1_qubits.bloch_sphere import BlochSphere\n",
    "from phase1_qubits.multi_qubit import (\n",
    "    TwoQubitSystem, bell_phi_plus, bell_phi_minus, tensor_product\n",
    ")\n",
    "from phase1_qubits.two_qubit_gates import CNOT, apply_gate_to_system, apply_single_qubit_gate\n",
    "\n",
    "# Configure plots\n",
    "%matplotlib inline\n",
    "plt.rcParams['figure.figsize'] = (10, 8)\n",
    "plt.rcParams['font.size'] = 12\n",
    "\n",
    "print(\"✓ Setup complete!\")"
   ]
  },
  {
   "cell_type": "markdown",
   "metadata": {},
   "source": [
    "---\n",
    "\n",
    "## 1. Quantum States and Qubits\n",
    "\n",
    "### 1.1 The Qubit\n",
    "\n",
    "A **qubit** (quantum bit) is the fundamental unit of quantum information. Unlike a classical bit (0 or 1), a qubit can exist in a **superposition** of states.\n",
    "\n",
    "#### Mathematical Representation\n",
    "\n",
    "A qubit is represented by a state vector in a 2-dimensional complex Hilbert space $\\mathbb{C}^2$:\n",
    "\n",
    "$$|\\psi\\rangle = \\alpha|0\\rangle + \\beta|1\\rangle$$\n",
    "\n",
    "where:\n",
    "- $\\alpha, \\beta \\in \\mathbb{C}$ are complex amplitudes\n",
    "- $|\\alpha|^2 + |\\beta|^2 = 1$ (normalization condition)\n",
    "- $|0\\rangle = \\begin{pmatrix} 1 \\\\ 0 \\end{pmatrix}$ and $|1\\rangle = \\begin{pmatrix} 0 \\\\ 1 \\end{pmatrix}$ are the computational basis states\n",
    "\n",
    "#### Measurement (Born Rule)\n",
    "\n",
    "Upon measurement in the computational basis:\n",
    "- Probability of measuring $|0\\rangle$: $P(0) = |\\alpha|^2$\n",
    "- Probability of measuring $|1\\rangle$: $P(1) = |\\beta|^2$\n",
    "\n",
    "---"
   ]
  },
  {
   "cell_type": "markdown",
   "metadata": {},
   "source": [
    "### 1.2 Computational Basis States\n",
    "\n",
    "Let's create and examine the two computational basis states:"
   ]
  },
  {
   "cell_type": "code",
   "execution_count": null,
   "metadata": {},
   "outputs": [],
   "source": [
    "# Create basis states\n",
    "q0 = ket_0()  # |0⟩\n",
    "q1 = ket_1()  # |1⟩\n",
    "\n",
    "print(\"Computational Basis States:\")\n",
    "print(\"=\"*50)\n",
    "print(f\"|0⟩ = {q0.state}\")\n",
    "print(f\"     {q0}\")\n",
    "print(f\"     P(0) = {q0.prob_0():.4f}, P(1) = {q0.prob_1():.4f}\")\n",
    "print()\n",
    "print(f\"|1⟩ = {q1.state}\")\n",
    "print(f\"     {q1}\")\n",
    "print(f\"     P(0) = {q1.prob_0():.4f}, P(1) = {q1.prob_1():.4f}\")"
   ]
  },
  {
   "cell_type": "markdown",
   "metadata": {},
   "source": [
    "### 1.3 Superposition States\n",
    "\n",
    "Qubits can exist in **superposition** - a linear combination of basis states.\n",
    "\n",
    "The **Hadamard basis** is particularly important:\n",
    "\n",
    "$$|+\\rangle = \\frac{1}{\\sqrt{2}}(|0\\rangle + |1\\rangle)$$\n",
    "$$|-\\rangle = \\frac{1}{\\sqrt{2}}(|0\\rangle - |1\\rangle)$$"
   ]
  },
  {
   "cell_type": "code",
   "execution_count": null,
   "metadata": {},
   "outputs": [],
   "source": [
    "# Create superposition states\n",
    "q_plus = ket_plus()   # |+⟩\n",
    "q_minus = ket_minus() # |-⟩\n",
    "\n",
    "print(\"Hadamard Basis States:\")\n",
    "print(\"=\"*50)\n",
    "print(f\"|+⟩ = {q_plus}\")\n",
    "print(f\"     P(0) = {q_plus.prob_0():.4f}, P(1) = {q_plus.prob_1():.4f}\")\n",
    "print(f\"     Equal superposition!\")\n",
    "print()\n",
    "print(f\"|-⟩ = {q_minus}\")\n",
    "print(f\"     P(0) = {q_minus.prob_0():.4f}, P(1) = {q_minus.prob_1():.4f}\")\n",
    "print(f\"     Also equal superposition (phases differ)\")"
   ]
  },
  {
   "cell_type": "markdown",
   "metadata": {},
   "source": [
    "### 1.4 Custom Superposition\n",
    "\n",
    "We can create any normalized qubit state:"
   ]
  },
  {
   "cell_type": "code",
   "execution_count": null,
   "metadata": {},
   "outputs": [],
   "source": [
    "# Create a custom state: 70% chance of |0⟩, 30% chance of |1⟩\n",
    "psi = Qubit([np.sqrt(0.7), np.sqrt(0.3)])\n",
    "\n",
    "print(\"Custom Superposition State:\")\n",
    "print(\"=\"*50)\n",
    "print(f\"|ψ⟩ = {psi}\")\n",
    "print(f\"P(0) = {psi.prob_0():.4f}\")\n",
    "print(f\"P(1) = {psi.prob_1():.4f}\")\n",
    "print(f\"\\nBloch coordinates: {psi.bloch_coordinates()}\")"
   ]
  },
  {
   "cell_type": "markdown",
   "metadata": {},
   "source": [
    "---\n",
    "\n",
    "## 2. The Bloch Sphere\n",
    "\n",
    "### 2.1 Geometric Representation\n",
    "\n",
    "Any single-qubit state can be visualized on the **Bloch sphere** - a unit sphere in 3D space.\n",
    "\n",
    "#### Bloch Sphere Parametrization\n",
    "\n",
    "A general qubit state can be written as:\n",
    "\n",
    "$$|\\psi\\rangle = \\cos\\frac{\\theta}{2}|0\\rangle + e^{i\\phi}\\sin\\frac{\\theta}{2}|1\\rangle$$\n",
    "\n",
    "where $\\theta \\in [0,\\pi]$ is the polar angle and $\\phi \\in [0, 2\\pi)$ is the azimuthal angle.\n",
    "\n",
    "#### Bloch Coordinates\n",
    "\n",
    "The Cartesian coordinates are given by expectation values of Pauli operators:\n",
    "\n",
    "$$x = \\langle \\sigma_x \\rangle = 2\\text{Re}(\\alpha^*\\beta)$$\n",
    "$$y = \\langle \\sigma_y \\rangle = 2\\text{Im}(\\alpha^*\\beta)$$\n",
    "$$z = \\langle \\sigma_z \\rangle = |\\alpha|^2 - |\\beta|^2$$\n",
    "\n",
    "---"
   ]
  },
  {
   "cell_type": "markdown",
   "metadata": {},
   "source": [
    "### 2.2 Visualizing Basis States"
   ]
  },
  {
   "cell_type": "code",
   "execution_count": null,
   "metadata": {},
   "outputs": [],
   "source": [
    "# Create Bloch sphere with computational basis\n",
    "bloch = BlochSphere(figsize=(12, 10))\n",
    "bloch.add_qubit(ket_0(), label=\"|0⟩\", color='blue')\n",
    "bloch.add_qubit(ket_1(), label=\"|1⟩\", color='red')\n",
    "bloch.show(title=\"Computational Basis on Bloch Sphere\")\n",
    "\n",
    "print(\"Bloch coordinates:\")\n",
    "print(f\"|0⟩: {ket_0().bloch_coordinates()}\")\n",
    "print(f\"|1⟩: {ket_1().bloch_coordinates()}\")"
   ]
  },
  {
   "cell_type": "code",
   "execution_count": null,
   "metadata": {},
   "outputs": [],
   "source": [
    "# Visualize Hadamard basis\n",
    "bloch = BlochSphere(figsize=(12, 10))\n",
    "bloch.add_qubit(ket_plus(), label=\"|+⟩\", color='green')\n",
    "bloch.add_qubit(ket_minus(), label=\"|-⟩\", color='purple')\n",
    "bloch.show(title=\"Hadamard Basis on Bloch Sphere\")\n",
    "\n",
    "print(\"Bloch coordinates:\")\n",
    "print(f\"|+⟩: {ket_plus().bloch_coordinates()}\")\n",
    "print(f\"|-⟩: {ket_minus().bloch_coordinates()}\")"
   ]
  },
  {
   "cell_type": "code",
   "execution_count": null,
   "metadata": {},
   "outputs": [],
   "source": [
    "# Visualize all important states together\n",
    "bloch = BlochSphere(figsize=(14, 12))\n",
    "bloch.add_qubit(ket_0(), label=\"|0⟩\", color='blue')\n",
    "bloch.add_qubit(ket_1(), label=\"|1⟩\", color='red')\n",
    "bloch.add_qubit(ket_plus(), label=\"|+⟩\", color='green')\n",
    "bloch.add_qubit(ket_minus(), label=\"|-⟩\", color='purple')\n",
    "\n",
    "# Add a custom superposition\n",
    "psi = Qubit([np.sqrt(0.7), np.sqrt(0.3)])\n",
    "bloch.add_qubit(psi, label=\"|ψ⟩\", color='orange')\n",
    "\n",
    "bloch.show(title=\"Complete View: Computational, Hadamard, and Custom States\")"
   ]
  },
  {
   "cell_type": "markdown",
   "metadata": {},
   "source": [
    "---\n",
    "\n",
    "## 3. Quantum Gates\n",
    "\n",
    "### 3.1 Unitary Evolution\n",
    "\n",
    "Quantum gates are **unitary operators** $U$ that transform qubit states:\n",
    "\n",
    "$$|\\psi'\\rangle = U|\\psi\\rangle$$\n",
    "\n",
    "Unitarity ensures $U^\\dagger U = I$, which preserves normalization.\n",
    "\n",
    "---\n",
    "\n",
    "### 3.2 Pauli Gates\n",
    "\n",
    "The **Pauli operators** are fundamental single-qubit gates:\n",
    "\n",
    "$$X = \\begin{pmatrix} 0 & 1 \\\\ 1 & 0 \\end{pmatrix}, \\quad\n",
    "Y = \\begin{pmatrix} 0 & -i \\\\ i & 0 \\end{pmatrix}, \\quad\n",
    "Z = \\begin{pmatrix} 1 & 0 \\\\ 0 & -1 \\end{pmatrix}$$\n",
    "\n",
    "**Geometric interpretation:** 180° rotations around X, Y, Z axes of the Bloch sphere.\n",
    "\n",
    "**Effects:**\n",
    "- $X$: Bit flip ($|0\\rangle \\leftrightarrow |1\\rangle$)\n",
    "- $Y$: Bit + phase flip\n",
    "- $Z$: Phase flip ($|1\\rangle \\to -|1\\rangle$)\n",
    "\n",
    "---"
   ]
  },
  {
   "cell_type": "code",
   "execution_count": null,
   "metadata": {},
   "outputs": [],
   "source": [
    "# Demonstrate Pauli gates\n",
    "q = ket_0()\n",
    "\n",
    "print(\"Pauli Gates on |0⟩:\")\n",
    "print(\"=\"*50)\n",
    "print(f\"Initial:  {q}\")\n",
    "print(f\"After X:  {apply_gate(q, PAULI_X)}  (bit flip)\")\n",
    "print(f\"After Y:  {apply_gate(q, PAULI_Y)}  (bit + phase flip)\")\n",
    "print(f\"After Z:  {apply_gate(q, PAULI_Z)}  (no change - global phase)\")"
   ]
  },
  {
   "cell_type": "code",
   "execution_count": null,
   "metadata": {},
   "outputs": [],
   "source": [
    "# Visualize Pauli rotations on Bloch sphere\n",
    "q0 = ket_0()\n",
    "\n",
    "bloch = BlochSphere(figsize=(12, 10))\n",
    "bloch.add_qubit(q0, label=\"Start\", color='gray')\n",
    "bloch.add_qubit(apply_gate(q0, PAULI_X), label=\"X\", color='red')\n",
    "bloch.add_qubit(apply_gate(q0, PAULI_Y), label=\"Y\", color='green')\n",
    "bloch.add_qubit(apply_gate(q0, PAULI_Z), label=\"Z\", color='blue')\n",
    "bloch.show(title=\"Pauli Gates: 180° Rotations\")"
   ]
  },
  {
   "cell_type": "markdown",
   "metadata": {},
   "source": [
    "### 3.3 Hadamard Gate\n",
    "\n",
    "The **Hadamard gate** creates superposition:\n",
    "\n",
    "$$H = \\frac{1}{\\sqrt{2}}\\begin{pmatrix} 1 & 1 \\\\ 1 & -1 \\end{pmatrix}$$\n",
    "\n",
    "**Effects:**\n",
    "- $H|0\\rangle = |+\\rangle = \\frac{1}{\\sqrt{2}}(|0\\rangle + |1\\rangle)$\n",
    "- $H|1\\rangle = |-\\rangle = \\frac{1}{\\sqrt{2}}(|0\\rangle - |1\\rangle)$\n",
    "\n",
    "**Geometric interpretation:** 180° rotation around the axis between X and Z (the diagonal).\n",
    "\n",
    "---"
   ]
  },
  {
   "cell_type": "code",
   "execution_count": null,
   "metadata": {},
   "outputs": [],
   "source": [
    "# Demonstrate Hadamard gate\n",
    "print(\"Hadamard Gate (Creating Superposition):\")\n",
    "print(\"=\"*50)\n",
    "q0 = ket_0()\n",
    "q1 = ket_1()\n",
    "\n",
    "print(f\"H|0⟩ = {apply_gate(q0, HADAMARD)}\")\n",
    "print(f\"     = |+⟩ (equal superposition)\")\n",
    "print()\n",
    "print(f\"H|1⟩ = {apply_gate(q1, HADAMARD)}\")\n",
    "print(f\"     = |-⟩ (equal superposition with minus sign)\")"
   ]
  },
  {
   "cell_type": "code",
   "execution_count": null,
   "metadata": {},
   "outputs": [],
   "source": [
    "# Visualize Hadamard transformation\n",
    "bloch = BlochSphere(figsize=(12, 10))\n",
    "bloch.add_qubit(ket_0(), label=\"|0⟩\", color='blue')\n",
    "bloch.add_qubit(apply_gate(ket_0(), HADAMARD), label=\"H|0⟩ = |+⟩\", color='green')\n",
    "bloch.add_qubit(ket_1(), label=\"|1⟩\", color='red')\n",
    "bloch.add_qubit(apply_gate(ket_1(), HADAMARD), label=\"H|1⟩ = |-⟩\", color='purple')\n",
    "bloch.show(title=\"Hadamard Gate: Creating Superposition\")"
   ]
  },
  {
   "cell_type": "markdown",
   "metadata": {},
   "source": [
    "### 3.4 Phase Gates\n",
    "\n",
    "**S Gate** (Phase gate):\n",
    "$$S = \\begin{pmatrix} 1 & 0 \\\\ 0 & i \\end{pmatrix}$$\n",
    "\n",
    "**T Gate** ($\\pi/8$ gate):\n",
    "$$T = \\begin{pmatrix} 1 & 0 \\\\ 0 & e^{i\\pi/4} \\end{pmatrix}$$\n",
    "\n",
    "**Properties:**\n",
    "- $S^2 = Z$ (applying S twice gives Z)\n",
    "- $T^2 = S$ (applying T twice gives S)\n",
    "- Both are 90° and 45° rotations around the Z-axis\n",
    "\n",
    "---"
   ]
  },
  {
   "cell_type": "code",
   "execution_count": null,
   "metadata": {},
   "outputs": [],
   "source": [
    "# Demonstrate phase gates\n",
    "q_plus = ket_plus()\n",
    "\n",
    "print(\"Phase Gates on |+⟩:\")\n",
    "print(\"=\"*50)\n",
    "print(f\"Initial:  {q_plus}\")\n",
    "print(f\"After S:  {apply_gate(q_plus, S_GATE)}\")\n",
    "print(f\"After T:  {apply_gate(q_plus, T_GATE)}\")"
   ]
  },
  {
   "cell_type": "markdown",
   "metadata": {},
   "source": [
    "### 3.5 Rotation Gates\n",
    "\n",
    "General rotations around the Bloch sphere axes:\n",
    "\n",
    "$$R_x(\\theta) = e^{-i\\theta X/2} = \\begin{pmatrix} \\cos\\frac{\\theta}{2} & -i\\sin\\frac{\\theta}{2} \\\\ -i\\sin\\frac{\\theta}{2} & \\cos\\frac{\\theta}{2} \\end{pmatrix}$$\n",
    "\n",
    "$$R_y(\\theta) = e^{-i\\theta Y/2} = \\begin{pmatrix} \\cos\\frac{\\theta}{2} & -\\sin\\frac{\\theta}{2} \\\\ \\sin\\frac{\\theta}{2} & \\cos\\frac{\\theta}{2} \\end{pmatrix}$$\n",
    "\n",
    "$$R_z(\\theta) = e^{-i\\theta Z/2} = \\begin{pmatrix} e^{-i\\theta/2} & 0 \\\\ 0 & e^{i\\theta/2} \\end{pmatrix}$$\n",
    "\n",
    "---"
   ]
  },
  {
   "cell_type": "code",
   "execution_count": null,
   "metadata": {},
   "outputs": [],
   "source": [
    "# Demonstrate rotation gates\n",
    "q = ket_0()\n",
    "angle = np.pi / 4  # 45 degrees\n",
    "\n",
    "print(f\"Rotation Gates (θ = π/4):\")\n",
    "print(\"=\"*50)\n",
    "print(f\"Initial:    {q}\")\n",
    "print(f\"Rx(π/4):    {apply_gate(q, rx(angle))}\")\n",
    "print(f\"Ry(π/4):    {apply_gate(q, ry(angle))}\")\n",
    "print(f\"Rz(π/4):    {apply_gate(q, rz(angle))}\")"
   ]
  },
  {
   "cell_type": "code",
   "execution_count": null,
   "metadata": {},
   "outputs": [],
   "source": [
    "# Visualize rotations\n",
    "q0 = ket_0()\n",
    "angle = np.pi / 2  # 90 degrees for clearer visualization\n",
    "\n",
    "bloch = BlochSphere(figsize=(12, 10))\n",
    "bloch.add_qubit(q0, label=\"|0⟩\", color='gray')\n",
    "bloch.add_qubit(apply_gate(q0, rx(angle)), label=\"Rx(π/2)\", color='red')\n",
    "bloch.add_qubit(apply_gate(q0, ry(angle)), label=\"Ry(π/2)\", color='green')\n",
    "bloch.add_qubit(apply_gate(q0, rz(angle)), label=\"Rz(π/2)\", color='blue')\n",
    "bloch.show(title=\"Rotation Gates: 90° Around Each Axis\")"
   ]
  },
  {
   "cell_type": "markdown",
   "metadata": {},
   "source": [
    "### 3.6 Gate Sequences and Trajectories\n",
    "\n",
    "We can apply multiple gates in sequence. The trajectory shows how the qubit state moves on the Bloch sphere:"
   ]
  },
  {
   "cell_type": "code",
   "execution_count": null,
   "metadata": {},
   "outputs": [],
   "source": [
    "# Apply a sequence of gates\n",
    "initial = ket_0()\n",
    "gates = [HADAMARD, S_GATE, HADAMARD]\n",
    "gate_names = ['H', 'S', 'H']\n",
    "\n",
    "print(\"Gate Sequence: |0⟩ → H → S → H\")\n",
    "print(\"=\"*50)\n",
    "current = initial.copy()\n",
    "print(f\"Start:    {current}\")\n",
    "\n",
    "for gate, name in zip(gates, gate_names):\n",
    "    current = apply_gate(current, gate)\n",
    "    print(f\"After {name}:  {current}\")"
   ]
  },
  {
   "cell_type": "code",
   "execution_count": null,
   "metadata": {},
   "outputs": [],
   "source": [
    "# Visualize the trajectory\n",
    "bloch = BlochSphere(figsize=(14, 12))\n",
    "\n",
    "current = ket_0()\n",
    "colors = ['blue', 'green', 'purple', 'red']\n",
    "labels = ['Start'] + gate_names\n",
    "\n",
    "bloch.add_qubit(current, label='Start', color=colors[0])\n",
    "\n",
    "for i, (gate, name) in enumerate(zip(gates, gate_names)):\n",
    "    current = apply_gate(current, gate)\n",
    "    bloch.add_qubit(current, label=name, color=colors[i+1])\n",
    "\n",
    "bloch.show(title=\"Gate Sequence Trajectory: |0⟩ → H → S → H\")"
   ]
  },
  {
   "cell_type": "markdown",
   "metadata": {},
   "source": [
    "---\n",
    "\n",
    "## 4. Measurement and the Born Rule\n",
    "\n",
    "### 4.1 The Measurement Postulate\n",
    "\n",
    "When we measure a qubit $|\\psi\\rangle = \\alpha|0\\rangle + \\beta|1\\rangle$ in the computational basis:\n",
    "\n",
    "- **Probability of outcome $|0\\rangle$:** $P(0) = |\\alpha|^2 = |\\langle 0|\\psi\\rangle|^2$\n",
    "- **Probability of outcome $|1\\rangle$:** $P(1) = |\\beta|^2 = |\\langle 1|\\psi\\rangle|^2$\n",
    "\n",
    "After measurement, the state **collapses** to the measured eigenstate.\n",
    "\n",
    "This is the **Born rule** - the fundamental connection between quantum amplitudes and classical probabilities.\n",
    "\n",
    "---"
   ]
  },
  {
   "cell_type": "markdown",
   "metadata": {},
   "source": [
    "### 4.2 Measuring Deterministic States\n",
    "\n",
    "For basis states, measurement is deterministic:"
   ]
  },
  {
   "cell_type": "code",
   "execution_count": null,
   "metadata": {},
   "outputs": [],
   "source": [
    "# Measure |0⟩ many times\n",
    "q0 = ket_0()\n",
    "results = q0.measure(shots=100)\n",
    "\n",
    "zeros = np.sum(results == 0)\n",
    "ones = np.sum(results == 1)\n",
    "\n",
    "print(\"Measuring |0⟩ state 100 times:\")\n",
    "print(f\"  Results: {zeros} × |0⟩, {ones} × |1⟩\")\n",
    "print(f\"  As expected: always |0⟩!\")\n",
    "\n",
    "# Measure |1⟩ many times\n",
    "q1 = ket_1()\n",
    "results = q1.measure(shots=100)\n",
    "\n",
    "zeros = np.sum(results == 0)\n",
    "ones = np.sum(results == 1)\n",
    "\n",
    "print(\"\\nMeasuring |1⟩ state 100 times:\")\n",
    "print(f\"  Results: {zeros} × |0⟩, {ones} × |1⟩\")\n",
    "print(f\"  As expected: always |1⟩!\")"
   ]
  },
  {
   "cell_type": "markdown",
   "metadata": {},
   "source": [
    "### 4.3 Measuring Superposition States\n",
    "\n",
    "For superposition states, outcomes are probabilistic:"
   ]
  },
  {
   "cell_type": "code",
   "execution_count": null,
   "metadata": {},
   "outputs": [],
   "source": [
    "# Measure |+⟩ many times\n",
    "q_plus = ket_plus()\n",
    "results = q_plus.measure(shots=1000)\n",
    "\n",
    "zeros = np.sum(results == 0)\n",
    "ones = np.sum(results == 1)\n",
    "\n",
    "print(\"Measuring |+⟩ state 1000 times:\")\n",
    "print(f\"  State: {q_plus}\")\n",
    "print(f\"  Theoretical: P(0) = {q_plus.prob_0():.4f}, P(1) = {q_plus.prob_1():.4f}\")\n",
    "print(f\"  Results: {zeros} × |0⟩, {ones} × |1⟩\")\n",
    "print(f\"  Experimental: P(0) = {zeros/1000:.4f}, P(1) = {ones/1000:.4f}\")\n",
    "print(f\"  Excellent agreement with theory!\")"
   ]
  },
  {
   "cell_type": "code",
   "execution_count": null,
   "metadata": {},
   "outputs": [],
   "source": [
    "# Visualize measurement statistics\n",
    "fig, axes = plt.subplots(1, 3, figsize=(15, 4))\n",
    "\n",
    "# Test three different states\n",
    "states = [\n",
    "    (ket_0(), \"|0⟩\"),\n",
    "    (ket_plus(), \"|+⟩\"),\n",
    "    (Qubit([np.sqrt(0.7), np.sqrt(0.3)]), \"|ψ⟩ (70-30)\")\n",
    "]\n",
    "\n",
    "for i, (state, label) in enumerate(states):\n",
    "    results = state.measure(shots=1000)\n",
    "    \n",
    "    zeros = np.sum(results == 0)\n",
    "    ones = np.sum(results == 1)\n",
    "    \n",
    "    axes[i].bar(['|0⟩', '|1⟩'], [zeros, ones], color=['blue', 'red'], alpha=0.7)\n",
    "    axes[i].axhline(500, color='gray', linestyle='--', alpha=0.5, label='50-50')\n",
    "    axes[i].set_ylabel('Counts (out of 1000)')\n",
    "    axes[i].set_title(f'Measuring {label}')\n",
    "    axes[i].set_ylim([0, 1000])\n",
    "    axes[i].legend()\n",
    "\n",
    "plt.tight_layout()\n",
    "plt.show()"
   ]
  },
  {
   "cell_type": "markdown",
   "metadata": {},
   "source": [
    "---\n",
    "\n",
    "## 5. Two-Qubit Systems and Entanglement\n",
    "\n",
    "### 5.1 Tensor Product\n",
    "\n",
    "For two qubits, the combined state space is $\\mathbb{C}^2 \\otimes \\mathbb{C}^2 = \\mathbb{C}^4$.\n",
    "\n",
    "For product states:\n",
    "$$|\\psi\\rangle \\otimes |\\phi\\rangle = (\\alpha_1|0\\rangle + \\beta_1|1\\rangle) \\otimes (\\alpha_2|0\\rangle + \\beta_2|1\\rangle)$$\n",
    "$$= \\alpha_1\\alpha_2|00\\rangle + \\alpha_1\\beta_2|01\\rangle + \\beta_1\\alpha_2|10\\rangle + \\beta_1\\beta_2|11\\rangle$$\n",
    "\n",
    "---"
   ]
  },
  {
   "cell_type": "code",
   "execution_count": null,
   "metadata": {},
   "outputs": [],
   "source": [
    "# Create a product state\n",
    "q0 = ket_0()\n",
    "q1 = ket_1()\n",
    "\n",
    "system = tensor_product(q0, q1)  # |01⟩\n",
    "\n",
    "print(\"Product State: |0⟩ ⊗ |1⟩ = |01⟩\")\n",
    "print(\"=\"*50)\n",
    "print(f\"State vector: {system.state}\")\n",
    "print(f\"Is entangled? {system.is_entangled()}\")\n",
    "print(\"\\nThis is a separable (non-entangled) state.\")"
   ]
  },
  {
   "cell_type": "markdown",
   "metadata": {},
   "source": [
    "### 5.2 Entanglement\n",
    "\n",
    "A two-qubit state is **entangled** if it cannot be written as a tensor product.\n",
    "\n",
    "The **Bell states** are maximally entangled:\n",
    "\n",
    "$$|\\Phi^+\\rangle = \\frac{1}{\\sqrt{2}}(|00\\rangle + |11\\rangle)$$\n",
    "$$|\\Phi^-\\rangle = \\frac{1}{\\sqrt{2}}(|00\\rangle - |11\\rangle)$$\n",
    "$$|\\Psi^+\\rangle = \\frac{1}{\\sqrt{2}}(|01\\rangle + |10\\rangle)$$\n",
    "$$|\\Psi^-\\rangle = \\frac{1}{\\sqrt{2}}(|01\\rangle - |10\\rangle)$$\n",
    "\n",
    "---"
   ]
  },
  {
   "cell_type": "code",
   "execution_count": null,
   "metadata": {},
   "outputs": [],
   "source": [
    "# Create Bell state |Φ+⟩\n",
    "bell = bell_phi_plus()\n",
    "\n",
    "print(\"Bell State |Φ+⟩ = (|00⟩ + |11⟩)/√2\")\n",
    "print(\"=\"*50)\n",
    "print(f\"State vector: {bell.state}\")\n",
    "print(f\"Is entangled? {bell.is_entangled()}\")\n",
    "print(f\"Entanglement entropy: {bell.entanglement_entropy():.4f}\")\n",
    "print(\"\\nEntropy = 1.0 means maximum entanglement!\")"
   ]
  },
  {
   "cell_type": "markdown",
   "metadata": {},
   "source": [
    "### 5.3 Creating Entanglement with CNOT\n",
    "\n",
    "The **CNOT gate** (Controlled-NOT) is a two-qubit gate:\n",
    "\n",
    "$$\\text{CNOT} = \\begin{pmatrix} 1 & 0 & 0 & 0 \\\\ 0 & 1 & 0 & 0 \\\\ 0 & 0 & 0 & 1 \\\\ 0 & 0 & 1 & 0 \\end{pmatrix}$$\n",
    "\n",
    "**Effect:** Flips the second qubit if the first qubit is $|1\\rangle$.\n",
    "\n",
    "**Creating a Bell state:**\n",
    "$$\\text{CNOT}(H \\otimes I)|00\\rangle = \\text{CNOT}\\frac{1}{\\sqrt{2}}(|0\\rangle + |1\\rangle) \\otimes |0\\rangle$$\n",
    "$$= \\frac{1}{\\sqrt{2}}(|00\\rangle + |11\\rangle) = |\\Phi^+\\rangle$$\n",
    "\n",
    "---"
   ]
  },
  {
   "cell_type": "code",
   "execution_count": null,
   "metadata": {},
   "outputs": [],
   "source": [
    "# Create Bell state step-by-step\n",
    "print(\"Creating Entanglement with CNOT:\")\n",
    "print(\"=\"*50)\n",
    "\n",
    "# Start with |00⟩\n",
    "system = tensor_product(ket_0(), ket_0())\n",
    "print(f\"1. Start with |00⟩\")\n",
    "print(f\"   State: {system.state}\")\n",
    "print(f\"   Entangled? {system.is_entangled()}\")\n",
    "\n",
    "# Apply H ⊗ I\n",
    "system = apply_single_qubit_gate(system, HADAMARD, 0)\n",
    "print(f\"\\n2. Apply H ⊗ I (Hadamard on first qubit)\")\n",
    "print(f\"   State: {system.state}\")\n",
    "print(f\"   Entangled? {system.is_entangled()}\")\n",
    "print(f\"   Still separable: (|0⟩+|1⟩)/√2 ⊗ |0⟩\")\n",
    "\n",
    "# Apply CNOT\n",
    "system = apply_gate_to_system(system, CNOT)\n",
    "print(f\"\\n3. Apply CNOT\")\n",
    "print(f\"   State: {system.state}\")\n",
    "print(f\"   Entangled? {system.is_entangled()}\")\n",
    "print(f\"   Entropy: {system.entanglement_entropy():.4f}\")\n",
    "print(f\"\\n   SUCCESS! Created Bell state |Φ+⟩\")"
   ]
  },
  {
   "cell_type": "markdown",
   "metadata": {},
   "source": [
    "### 5.4 All Four Bell States"
   ]
  },
  {
   "cell_type": "code",
   "execution_count": null,
   "metadata": {},
   "outputs": [],
   "source": [
    "# Display all Bell states\n",
    "bell_states = [\n",
    "    (bell_phi_plus(), \"|Φ+⟩\", \"(|00⟩ + |11⟩)/√2\"),\n",
    "    (bell_phi_minus(), \"|Φ-⟩\", \"(|00⟩ - |11⟩)/√2\"),\n",
    "]\n",
    "\n",
    "print(\"All Bell States (Maximally Entangled):\")\n",
    "print(\"=\"*70)\n",
    "\n",
    "for state, name, formula in bell_states:\n",
    "    print(f\"\\n{name} = {formula}\")\n",
    "    print(f\"  State vector: {state.state}\")\n",
    "    print(f\"  Entanglement entropy: {state.entanglement_entropy():.4f}\")\n",
    "    \n",
    "    # Schmidt decomposition\n",
    "    coeffs, basis_A, basis_B = state.schmidt_decomposition()\n",
    "    print(f\"  Schmidt coefficients: {coeffs}\")"
   ]
  },
  {
   "cell_type": "markdown",
   "metadata": {},
   "source": [
    "---\n",
    "\n",
    "## 6. Summary and Key Takeaways\n",
    "\n",
    "### What We've Learned\n",
    "\n",
    "1. **Qubits**: Quantum states in $\\mathbb{C}^2$ with superposition\n",
    "2. **Bloch Sphere**: Geometric visualization of single-qubit states\n",
    "3. **Quantum Gates**: Unitary operations (Pauli, Hadamard, rotations, phase gates)\n",
    "4. **Measurement**: Born rule connects quantum amplitudes to probabilities\n",
    "5. **Two-Qubits**: Tensor products and entanglement\n",
    "6. **Bell States**: Maximally entangled states created with CNOT\n",
    "\n",
    "### Key Equations\n",
    "\n",
    "**Qubit state:**\n",
    "$$|\\psi\\rangle = \\alpha|0\\rangle + \\beta|1\\rangle, \\quad |\\alpha|^2 + |\\beta|^2 = 1$$\n",
    "\n",
    "**Born rule:**\n",
    "$$P(i) = |\\langle i|\\psi\\rangle|^2$$\n",
    "\n",
    "**Unitary evolution:**\n",
    "$$|\\psi'\\rangle = U|\\psi\\rangle, \\quad U^\\dagger U = I$$\n",
    "\n",
    "**Entanglement:** State cannot be written as $|\\psi_A\\rangle \\otimes |\\psi_B\\rangle$\n",
    "\n",
    "---\n",
    "\n",
    "### Next Steps: Phase 2\n",
    "\n",
    "- Bell inequalities (CHSH)\n",
    "- Quantum vs classical correlations\n",
    "- Density matrices for mixed states\n",
    "- Quantum teleportation\n",
    "\n",
    "---\n",
    "\n",
    "## References\n",
    "\n",
    "- Imperial College London: Quantum Information and Computation Course Notes\n",
    "- Nielsen & Chuang: *Quantum Computation and Quantum Information*\n",
    "- Our implementation: `phase1_qubits` Python package\n",
    "\n",
    "---\n",
    "\n",
    "**🎉 Phase 1 Complete!**"
   ]
  }
 ],
 "metadata": {
  "kernelspec": {
   "display_name": "Python 3",
   "language": "python",
   "name": "python3"
  },
  "language_info": {
   "codemirror_mode": {
    "name": "ipython",
    "version": 3
   },
   "file_extension": ".py",
   "mimetype": "text/x-python",
   "name": "python",
   "nbconvert_exporter": "python",
   "pygments_lexer": "ipython3",
   "version": "3.10.0"
  }
 },
 "nbformat": 4,
 "nbformat_minor": 4
}
